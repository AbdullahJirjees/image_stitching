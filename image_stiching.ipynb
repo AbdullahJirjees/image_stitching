{
 "cells": [
  {
   "cell_type": "markdown",
   "metadata": {},
   "source": [
    "# 1-Capture Images from the Camera"
   ]
  },
  {
   "cell_type": "code",
   "execution_count": 33,
   "metadata": {},
   "outputs": [
    {
     "name": "stdout",
     "output_type": "stream",
     "text": [
      "Saved image_0.jpg\n",
      "Saved image_1.jpg\n",
      "Saved image_2.jpg\n",
      "Saved image_3.jpg\n",
      "Saved image_4.jpg\n",
      "Saved image_5.jpg\n",
      "Saved image_6.jpg\n",
      "Saved image_7.jpg\n",
      "Saved image_8.jpg\n",
      "Saved image_9.jpg\n"
     ]
    }
   ],
   "source": [
    "import cv2\n",
    "\n",
    "# Open the camera\n",
    "cap = cv2.VideoCapture(2)\n",
    "\n",
    "if not cap.isOpened():\n",
    "    print(\"Error: Could not open camera.\")\n",
    "    exit()\n",
    "\n",
    "image_count = 0\n",
    "\n",
    "while True:\n",
    "    ret, frame = cap.read()\n",
    "    if not ret:\n",
    "        print(\"Failed to grab frame\")\n",
    "        break\n",
    "\n",
    "    cv2.imshow(\"Camera Feed\", frame)\n",
    "\n",
    "    key = cv2.waitKey(1) & 0xFF\n",
    "    if key == ord('s'):  # Press 's' to save the image\n",
    "        image_name = f\"image_{image_count}.jpg\"\n",
    "        cv2.imwrite(image_name, frame)\n",
    "        print(f\"Saved {image_name}\")\n",
    "        image_count += 1\n",
    "\n",
    "    elif key == ord('q'):  # Press 'q' to quit\n",
    "        break\n",
    "\n",
    "cap.release()\n",
    "cv2.destroyAllWindows()\n"
   ]
  },
  {
   "cell_type": "markdown",
   "metadata": {},
   "source": [
    "# 2- Sticking images togerther"
   ]
  },
  {
   "cell_type": "code",
   "execution_count": null,
   "metadata": {},
   "outputs": [
    {
     "name": "stdout",
     "output_type": "stream",
     "text": [
      "Sticking successful! Saved as stitched_output.jpg\n"
     ]
    }
   ],
   "source": [
    "import cv2 \n",
    "import glob \n",
    "\n",
    "# Load images\n",
    "image_files = sorted(glob.glob(\"image_*.jpg\"))\n",
    "images = [cv2.imread(img) for img in image_files]\n",
    "\n",
    "# Create Stitcher \n",
    "stitcher = cv2.Stitcher_create()\n",
    "status, panorama = stitcher.stitch(images)\n",
    "\n",
    "if status == cv2.Stitcher_OK:\n",
    "    cv2.imshow(\"Panorama\", panorama)\n",
    "    cv2.imwrite(\"stitched_output.jpg\", panorama)\n",
    "    print (\"Stitching successful! Saved as stitched_output.jpg\")\n",
    "else:\n",
    "    print(\"Stitch is failed!!\")\n",
    "\n",
    "cv2.waitKey(0)\n",
    "cv2.destroyAllWindows()\n"
   ]
  }
 ],
 "metadata": {
  "kernelspec": {
   "display_name": "testlab",
   "language": "python",
   "name": "python3"
  },
  "language_info": {
   "codemirror_mode": {
    "name": "ipython",
    "version": 3
   },
   "file_extension": ".py",
   "mimetype": "text/x-python",
   "name": "python",
   "nbconvert_exporter": "python",
   "pygments_lexer": "ipython3",
   "version": "3.10.14"
  }
 },
 "nbformat": 4,
 "nbformat_minor": 2
}
